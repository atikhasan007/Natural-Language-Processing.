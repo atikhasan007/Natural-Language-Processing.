{
  "cells": [
    {
      "cell_type": "markdown",
      "metadata": {
        "id": "view-in-github",
        "colab_type": "text"
      },
      "source": [
        "<a href=\"https://colab.research.google.com/github/atikhasan007/Natural-Language-Processing./blob/main/NMF_topic_modeling.ipynb\" target=\"_parent\"><img src=\"https://colab.research.google.com/assets/colab-badge.svg\" alt=\"Open In Colab\"/></a>"
      ]
    },
    {
      "cell_type": "code",
      "source": [
        "#sample Documents\n",
        "\n",
        "documents = [\n",
        "    \"The cat sat on the mat.\",\n",
        "    \"Dogs are man's best friend.\",\n",
        "    \"Cats and dogs are both popular pets.\",\n",
        "    \"Artificial intelligence is transforming the world.\",\n",
        "    \"Machine learning and deep learning are subsets of AI.\",\n",
        "    \"The stock market crashed due to economic instability.\",\n",
        "    \"Investors are cautious about tech stocks in 2025.\",\n",
        "    \"Nutrition and exercise are important for good health.\",\n",
        "    \"Doctors recommend eating more vegetables and fruits.\",\n",
        "    \"Health experts suggest daily physical activity.\"\n",
        "]\n",
        "\n",
        "documents\n"
      ],
      "metadata": {
        "id": "CB4J7Y5KPkZM",
        "outputId": "014a2aed-3eab-4c6e-c165-4bd74d8b7268",
        "colab": {
          "base_uri": "https://localhost:8080/"
        }
      },
      "execution_count": 4,
      "outputs": [
        {
          "output_type": "execute_result",
          "data": {
            "text/plain": [
              "['The cat sat on the mat.',\n",
              " \"Dogs are man's best friend.\",\n",
              " 'Cats and dogs are both popular pets.',\n",
              " 'Artificial intelligence is transforming the world.',\n",
              " 'Machine learning and deep learning are subsets of AI.',\n",
              " 'The stock market crashed due to economic instability.',\n",
              " 'Investors are cautious about tech stocks in 2025.',\n",
              " 'Nutrition and exercise are important for good health.',\n",
              " 'Doctors recommend eating more vegetables and fruits.',\n",
              " 'Health experts suggest daily physical activity.']"
            ]
          },
          "metadata": {},
          "execution_count": 4
        }
      ]
    },
    {
      "cell_type": "code",
      "source": [
        "#tf-idf vectorization\n",
        "from sklearn.feature_extraction.text import TfidfVectorizer\n",
        "\n",
        "vectorize = TfidfVectorizer(stop_words='english')\n",
        "x = vectorize.fit_transform(documents)\n",
        "\n"
      ],
      "metadata": {
        "id": "cWaewgMzPk9_"
      },
      "execution_count": 7,
      "outputs": []
    },
    {
      "cell_type": "code",
      "source": [
        "x.toarray()"
      ],
      "metadata": {
        "id": "5WSkk9uOPkUU",
        "outputId": "9bb8d2e9-57f0-400c-eab0-eb362931b77a",
        "colab": {
          "base_uri": "https://localhost:8080/"
        }
      },
      "execution_count": 8,
      "outputs": [
        {
          "output_type": "execute_result",
          "data": {
            "text/plain": [
              "array([[0.        , 0.        , 0.        , 0.        , 0.        ,\n",
              "        0.57735027, 0.        , 0.        , 0.        , 0.        ,\n",
              "        0.        , 0.        , 0.        , 0.        , 0.        ,\n",
              "        0.        , 0.        , 0.        , 0.        , 0.        ,\n",
              "        0.        , 0.        , 0.        , 0.        , 0.        ,\n",
              "        0.        , 0.        , 0.        , 0.        , 0.57735027,\n",
              "        0.        , 0.        , 0.        , 0.        , 0.        ,\n",
              "        0.57735027, 0.        , 0.        , 0.        , 0.        ,\n",
              "        0.        , 0.        , 0.        , 0.        ],\n",
              "       [0.        , 0.        , 0.        , 0.        , 0.5182909 ,\n",
              "        0.        , 0.        , 0.        , 0.        , 0.        ,\n",
              "        0.        , 0.        , 0.44059462, 0.        , 0.        ,\n",
              "        0.        , 0.        , 0.5182909 , 0.        , 0.        ,\n",
              "        0.        , 0.        , 0.        , 0.        , 0.        ,\n",
              "        0.        , 0.        , 0.5182909 , 0.        , 0.        ,\n",
              "        0.        , 0.        , 0.        , 0.        , 0.        ,\n",
              "        0.        , 0.        , 0.        , 0.        , 0.        ,\n",
              "        0.        , 0.        , 0.        , 0.        ],\n",
              "       [0.        , 0.        , 0.        , 0.        , 0.        ,\n",
              "        0.        , 0.5182909 , 0.        , 0.        , 0.        ,\n",
              "        0.        , 0.        , 0.44059462, 0.        , 0.        ,\n",
              "        0.        , 0.        , 0.        , 0.        , 0.        ,\n",
              "        0.        , 0.        , 0.        , 0.        , 0.        ,\n",
              "        0.        , 0.        , 0.        , 0.        , 0.        ,\n",
              "        0.        , 0.5182909 , 0.        , 0.5182909 , 0.        ,\n",
              "        0.        , 0.        , 0.        , 0.        , 0.        ,\n",
              "        0.        , 0.        , 0.        , 0.        ],\n",
              "       [0.        , 0.        , 0.        , 0.5       , 0.        ,\n",
              "        0.        , 0.        , 0.        , 0.        , 0.        ,\n",
              "        0.        , 0.        , 0.        , 0.        , 0.        ,\n",
              "        0.        , 0.        , 0.        , 0.        , 0.        ,\n",
              "        0.        , 0.        , 0.        , 0.5       , 0.        ,\n",
              "        0.        , 0.        , 0.        , 0.        , 0.        ,\n",
              "        0.        , 0.        , 0.        , 0.        , 0.        ,\n",
              "        0.        , 0.        , 0.        , 0.        , 0.        ,\n",
              "        0.        , 0.5       , 0.        , 0.5       ],\n",
              "       [0.        , 0.        , 0.35355339, 0.        , 0.        ,\n",
              "        0.        , 0.        , 0.        , 0.        , 0.        ,\n",
              "        0.35355339, 0.        , 0.        , 0.        , 0.        ,\n",
              "        0.        , 0.        , 0.        , 0.        , 0.        ,\n",
              "        0.        , 0.        , 0.        , 0.        , 0.        ,\n",
              "        0.70710678, 0.35355339, 0.        , 0.        , 0.        ,\n",
              "        0.        , 0.        , 0.        , 0.        , 0.        ,\n",
              "        0.        , 0.        , 0.        , 0.35355339, 0.        ,\n",
              "        0.        , 0.        , 0.        , 0.        ],\n",
              "       [0.        , 0.        , 0.        , 0.        , 0.        ,\n",
              "        0.        , 0.        , 0.        , 0.4472136 , 0.        ,\n",
              "        0.        , 0.        , 0.        , 0.        , 0.4472136 ,\n",
              "        0.        , 0.        , 0.        , 0.        , 0.        ,\n",
              "        0.        , 0.        , 0.4472136 , 0.        , 0.        ,\n",
              "        0.        , 0.        , 0.        , 0.4472136 , 0.        ,\n",
              "        0.        , 0.        , 0.        , 0.        , 0.        ,\n",
              "        0.        , 0.4472136 , 0.        , 0.        , 0.        ,\n",
              "        0.        , 0.        , 0.        , 0.        ],\n",
              "       [0.4472136 , 0.        , 0.        , 0.        , 0.        ,\n",
              "        0.        , 0.        , 0.4472136 , 0.        , 0.        ,\n",
              "        0.        , 0.        , 0.        , 0.        , 0.        ,\n",
              "        0.        , 0.        , 0.        , 0.        , 0.        ,\n",
              "        0.        , 0.        , 0.        , 0.        , 0.4472136 ,\n",
              "        0.        , 0.        , 0.        , 0.        , 0.        ,\n",
              "        0.        , 0.        , 0.        , 0.        , 0.        ,\n",
              "        0.        , 0.        , 0.4472136 , 0.        , 0.        ,\n",
              "        0.4472136 , 0.        , 0.        , 0.        ],\n",
              "       [0.        , 0.        , 0.        , 0.        , 0.        ,\n",
              "        0.        , 0.        , 0.        , 0.        , 0.        ,\n",
              "        0.        , 0.        , 0.        , 0.        , 0.        ,\n",
              "        0.46015789, 0.        , 0.        , 0.        , 0.46015789,\n",
              "        0.39117625, 0.46015789, 0.        , 0.        , 0.        ,\n",
              "        0.        , 0.        , 0.        , 0.        , 0.        ,\n",
              "        0.46015789, 0.        , 0.        , 0.        , 0.        ,\n",
              "        0.        , 0.        , 0.        , 0.        , 0.        ,\n",
              "        0.        , 0.        , 0.        , 0.        ],\n",
              "       [0.        , 0.        , 0.        , 0.        , 0.        ,\n",
              "        0.        , 0.        , 0.        , 0.        , 0.        ,\n",
              "        0.        , 0.4472136 , 0.        , 0.4472136 , 0.        ,\n",
              "        0.        , 0.        , 0.        , 0.4472136 , 0.        ,\n",
              "        0.        , 0.        , 0.        , 0.        , 0.        ,\n",
              "        0.        , 0.        , 0.        , 0.        , 0.        ,\n",
              "        0.        , 0.        , 0.        , 0.        , 0.4472136 ,\n",
              "        0.        , 0.        , 0.        , 0.        , 0.        ,\n",
              "        0.        , 0.        , 0.4472136 , 0.        ],\n",
              "       [0.        , 0.41802399, 0.        , 0.        , 0.        ,\n",
              "        0.        , 0.        , 0.        , 0.        , 0.41802399,\n",
              "        0.        , 0.        , 0.        , 0.        , 0.        ,\n",
              "        0.        , 0.41802399, 0.        , 0.        , 0.        ,\n",
              "        0.35535858, 0.        , 0.        , 0.        , 0.        ,\n",
              "        0.        , 0.        , 0.        , 0.        , 0.        ,\n",
              "        0.        , 0.        , 0.41802399, 0.        , 0.        ,\n",
              "        0.        , 0.        , 0.        , 0.        , 0.41802399,\n",
              "        0.        , 0.        , 0.        , 0.        ]])"
            ]
          },
          "metadata": {},
          "execution_count": 8
        }
      ]
    },
    {
      "cell_type": "code",
      "source": [
        "#apply NMF\n",
        "from sklearn.decomposition import NMF\n",
        "\n",
        "nmf_model = NMF(n_components=3, random_state=42)\n",
        "W = nmf_model.fit_transform(x)\n",
        "H = nmf_model.components_\n",
        "H"
      ],
      "metadata": {
        "id": "BN2xRcQEPkRn",
        "outputId": "71279b3e-0b72-43ce-8c30-f5f0d10b3e99",
        "colab": {
          "base_uri": "https://localhost:8080/"
        }
      },
      "execution_count": 11,
      "outputs": [
        {
          "output_type": "execute_result",
          "data": {
            "text/plain": [
              "array([[0.00000000e+00, 0.00000000e+00, 0.00000000e+00, 0.00000000e+00,\n",
              "        3.90812931e-01, 5.69665929e-05, 3.90812931e-01, 0.00000000e+00,\n",
              "        7.69422744e-05, 0.00000000e+00, 0.00000000e+00, 0.00000000e+00,\n",
              "        6.64453393e-01, 0.00000000e+00, 7.69422744e-05, 0.00000000e+00,\n",
              "        0.00000000e+00, 3.90812931e-01, 0.00000000e+00, 0.00000000e+00,\n",
              "        0.00000000e+00, 0.00000000e+00, 7.69422744e-05, 0.00000000e+00,\n",
              "        0.00000000e+00, 0.00000000e+00, 0.00000000e+00, 3.90812931e-01,\n",
              "        7.69422744e-05, 5.69665929e-05, 0.00000000e+00, 3.90812931e-01,\n",
              "        0.00000000e+00, 3.90812931e-01, 0.00000000e+00, 5.69665929e-05,\n",
              "        7.69422744e-05, 0.00000000e+00, 0.00000000e+00, 0.00000000e+00,\n",
              "        0.00000000e+00, 0.00000000e+00, 0.00000000e+00, 0.00000000e+00],\n",
              "       [0.00000000e+00, 3.11616269e-01, 0.00000000e+00, 0.00000000e+00,\n",
              "        0.00000000e+00, 2.66956809e-04, 0.00000000e+00, 0.00000000e+00,\n",
              "        2.93841603e-04, 3.11616269e-01, 0.00000000e+00, 0.00000000e+00,\n",
              "        0.00000000e+00, 0.00000000e+00, 2.93841603e-04, 3.43025035e-01,\n",
              "        3.11616269e-01, 0.00000000e+00, 0.00000000e+00, 3.43025035e-01,\n",
              "        5.56504916e-01, 3.43025035e-01, 2.93841603e-04, 0.00000000e+00,\n",
              "        0.00000000e+00, 0.00000000e+00, 0.00000000e+00, 0.00000000e+00,\n",
              "        2.93841603e-04, 2.66956809e-04, 3.43025035e-01, 0.00000000e+00,\n",
              "        3.11616269e-01, 0.00000000e+00, 0.00000000e+00, 2.66956809e-04,\n",
              "        2.93841603e-04, 0.00000000e+00, 0.00000000e+00, 3.11616269e-01,\n",
              "        0.00000000e+00, 0.00000000e+00, 0.00000000e+00, 0.00000000e+00],\n",
              "       [6.57594104e-02, 0.00000000e+00, 2.83050743e-01, 2.69909923e-01,\n",
              "        0.00000000e+00, 2.89880507e-02, 0.00000000e+00, 6.57594104e-02,\n",
              "        2.69881083e-02, 0.00000000e+00, 2.83050743e-01, 5.73152816e-02,\n",
              "        0.00000000e+00, 5.73152816e-02, 2.69881083e-02, 0.00000000e+00,\n",
              "        0.00000000e+00, 0.00000000e+00, 5.73152816e-02, 0.00000000e+00,\n",
              "        0.00000000e+00, 0.00000000e+00, 2.69881083e-02, 2.69909923e-01,\n",
              "        6.57594104e-02, 5.66101486e-01, 2.83050743e-01, 0.00000000e+00,\n",
              "        2.69881083e-02, 2.89880507e-02, 0.00000000e+00, 0.00000000e+00,\n",
              "        0.00000000e+00, 0.00000000e+00, 5.73152816e-02, 2.89880507e-02,\n",
              "        2.69881083e-02, 6.57594104e-02, 2.83050743e-01, 0.00000000e+00,\n",
              "        6.57594104e-02, 2.69909923e-01, 5.73152816e-02, 2.69909923e-01]])"
            ]
          },
          "metadata": {},
          "execution_count": 11
        }
      ]
    },
    {
      "cell_type": "code",
      "source": [
        "#Top word part topic\n",
        "feature_names = vectorize.get_feature_names_out()\n",
        "feature_names"
      ],
      "metadata": {
        "id": "x7t9IIl0PkO6",
        "outputId": "2a044f32-06c5-4c12-ed68-1cd760069c36",
        "colab": {
          "base_uri": "https://localhost:8080/"
        }
      },
      "execution_count": 13,
      "outputs": [
        {
          "output_type": "execute_result",
          "data": {
            "text/plain": [
              "array(['2025', 'activity', 'ai', 'artificial', 'best', 'cat', 'cats',\n",
              "       'cautious', 'crashed', 'daily', 'deep', 'doctors', 'dogs',\n",
              "       'eating', 'economic', 'exercise', 'experts', 'friend', 'fruits',\n",
              "       'good', 'health', 'important', 'instability', 'intelligence',\n",
              "       'investors', 'learning', 'machine', 'man', 'market', 'mat',\n",
              "       'nutrition', 'pets', 'physical', 'popular', 'recommend', 'sat',\n",
              "       'stock', 'stocks', 'subsets', 'suggest', 'tech', 'transforming',\n",
              "       'vegetables', 'world'], dtype=object)"
            ]
          },
          "metadata": {},
          "execution_count": 13
        }
      ]
    },
    {
      "cell_type": "code",
      "source": [
        "n_top_words = 5\n",
        "for topic_idx, topic in enumerate(H):\n",
        "  print(f\"Topic #{topic_idx + 1}:\")\n",
        "  top_features = [feature_names[i] for i in topic.argsort()[:-n_top_words - 1:-1]]\n",
        "  print(\", \".join(top_features))"
      ],
      "metadata": {
        "id": "kMETlybnPkMk",
        "outputId": "988e91da-52bc-4af7-cb18-fc582a75c59a",
        "colab": {
          "base_uri": "https://localhost:8080/"
        }
      },
      "execution_count": 16,
      "outputs": [
        {
          "output_type": "stream",
          "name": "stdout",
          "text": [
            "Topic #1:\n",
            "dogs, popular, pets, friend, man\n",
            "Topic #2:\n",
            "health, good, nutrition, important, exercise\n",
            "Topic #3:\n",
            "learning, subsets, machine, ai, deep\n"
          ]
        }
      ]
    },
    {
      "cell_type": "code",
      "source": [],
      "metadata": {
        "id": "IdHyYgg6PkJ-"
      },
      "execution_count": 5,
      "outputs": []
    },
    {
      "cell_type": "code",
      "source": [],
      "metadata": {
        "id": "froQ8IGmPkHI"
      },
      "execution_count": 5,
      "outputs": []
    },
    {
      "cell_type": "code",
      "source": [],
      "metadata": {
        "id": "sCVliqLJPkEl"
      },
      "execution_count": 5,
      "outputs": []
    },
    {
      "cell_type": "code",
      "source": [],
      "metadata": {
        "id": "43qB3SLSPkB6"
      },
      "execution_count": 5,
      "outputs": []
    },
    {
      "cell_type": "code",
      "source": [],
      "metadata": {
        "id": "xn9q33iBPj_L"
      },
      "execution_count": 5,
      "outputs": []
    },
    {
      "cell_type": "code",
      "source": [],
      "metadata": {
        "id": "xdLTFvQkPj8e"
      },
      "execution_count": 5,
      "outputs": []
    },
    {
      "cell_type": "code",
      "source": [],
      "metadata": {
        "id": "qQI_ksNvPj52"
      },
      "execution_count": 5,
      "outputs": []
    },
    {
      "cell_type": "code",
      "source": [],
      "metadata": {
        "id": "-opRsWIePj3L"
      },
      "execution_count": 5,
      "outputs": []
    },
    {
      "cell_type": "code",
      "source": [],
      "metadata": {
        "id": "VqWH-ex8Pj0b"
      },
      "execution_count": 5,
      "outputs": []
    },
    {
      "cell_type": "code",
      "source": [],
      "metadata": {
        "id": "oGgPBfjPPjyB"
      },
      "execution_count": 5,
      "outputs": []
    },
    {
      "cell_type": "code",
      "source": [],
      "metadata": {
        "id": "o0knTHy0Pjrw"
      },
      "execution_count": 5,
      "outputs": []
    }
  ],
  "metadata": {
    "colab": {
      "name": "Welcome to Colab",
      "provenance": [],
      "include_colab_link": true
    },
    "kernelspec": {
      "display_name": "Python 3",
      "name": "python3"
    }
  },
  "nbformat": 4,
  "nbformat_minor": 0
}