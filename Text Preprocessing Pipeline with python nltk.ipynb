{
 "cells": [
  {
   "cell_type": "code",
   "execution_count": 1,
   "id": "cca28332",
   "metadata": {},
   "outputs": [],
   "source": [
    "import nltk\n"
   ]
  },
  {
   "cell_type": "code",
   "execution_count": 2,
   "id": "5e50bd03",
   "metadata": {},
   "outputs": [],
   "source": [
    "from nltk import word_tokenize, sent_tokenize\n"
   ]
  },
  {
   "cell_type": "code",
   "execution_count": 3,
   "id": "7b727601",
   "metadata": {},
   "outputs": [],
   "source": [
    "from nltk.tokenize import word_tokenize, sent_tokenize\n"
   ]
  },
  {
   "cell_type": "code",
   "execution_count": 5,
   "id": "34f8ae90",
   "metadata": {},
   "outputs": [],
   "source": [
    "text = 'Hello! How are you doing?'\n"
   ]
  },
  {
   "cell_type": "code",
   "execution_count": 7,
   "id": "b6a08246",
   "metadata": {},
   "outputs": [
    {
     "data": {
      "text/plain": [
       "['Hello', '!', 'How', 'are', 'you', 'doing', '?']"
      ]
     },
     "execution_count": 7,
     "metadata": {},
     "output_type": "execute_result"
    }
   ],
   "source": [
    "word_tokenize(text)"
   ]
  },
  {
   "cell_type": "code",
   "execution_count": 8,
   "id": "ec1e83b8",
   "metadata": {},
   "outputs": [
    {
     "data": {
      "text/plain": [
       "['he is a nice boy.', 'How are you?']"
      ]
     },
     "execution_count": 8,
     "metadata": {},
     "output_type": "execute_result"
    }
   ],
   "source": [
    "corpus = \"he is a nice boy. How are you?\"\n",
    "sent_tokenize(corpus)"
   ]
  },
  {
   "cell_type": "code",
   "execution_count": null,
   "id": "5a1d842e",
   "metadata": {},
   "outputs": [],
   "source": [
    "#tokenize(corpus)\n",
    "\"Just saw the movie Iron Man3. It's epic!!!\"\n"
   ]
  },
  {
   "cell_type": "markdown",
   "id": "77fc3fb4",
   "metadata": {},
   "source": [
    "# StopWords Removal"
   ]
  },
  {
   "cell_type": "code",
   "execution_count": 9,
   "id": "9b968392",
   "metadata": {},
   "outputs": [],
   "source": [
    "from nltk.corpus import stopwords"
   ]
  },
  {
   "cell_type": "code",
   "execution_count": 10,
   "id": "9fa43ac8",
   "metadata": {},
   "outputs": [],
   "source": [
    "from nltk.tokenize import word_tokenize\n"
   ]
  },
  {
   "cell_type": "code",
   "execution_count": 23,
   "id": "978e1816",
   "metadata": {},
   "outputs": [
    {
     "data": {
      "text/plain": [
       "['NLP', 'is', 'the', 'future', 'of', 'AI']"
      ]
     },
     "execution_count": 23,
     "metadata": {},
     "output_type": "execute_result"
    }
   ],
   "source": [
    "text = 'NLP is the future of AI'\n",
    "words = word_tokenize(text)\n",
    "words"
   ]
  },
  {
   "cell_type": "code",
   "execution_count": 24,
   "id": "459dc481",
   "metadata": {},
   "outputs": [],
   "source": [
    "stop_words = set(stopwords.words('english'))\n"
   ]
  },
  {
   "cell_type": "code",
   "execution_count": 25,
   "id": "a864c206",
   "metadata": {},
   "outputs": [],
   "source": [
    "filtered_words = [word for word in words if word not in stop_words]"
   ]
  },
  {
   "cell_type": "code",
   "execution_count": 26,
   "id": "a8ddaaf4",
   "metadata": {},
   "outputs": [
    {
     "data": {
      "text/plain": [
       "['NLP', 'future', 'AI']"
      ]
     },
     "execution_count": 26,
     "metadata": {},
     "output_type": "execute_result"
    }
   ],
   "source": [
    "filtered_words"
   ]
  },
  {
   "cell_type": "markdown",
   "id": "c6f442f6",
   "metadata": {},
   "source": [
    "# Stemming"
   ]
  },
  {
   "cell_type": "code",
   "execution_count": 27,
   "id": "84c48ad9",
   "metadata": {},
   "outputs": [],
   "source": [
    "#ProterStemmer\n",
    "from nltk.stem import PorterStemmer\n"
   ]
  },
  {
   "cell_type": "code",
   "execution_count": 31,
   "id": "b7687b6c",
   "metadata": {},
   "outputs": [],
   "source": [
    "ps = PorterStemmer()"
   ]
  },
  {
   "cell_type": "code",
   "execution_count": 32,
   "id": "78f6c8cb",
   "metadata": {},
   "outputs": [
    {
     "data": {
      "text/plain": [
       "'run'"
      ]
     },
     "execution_count": 32,
     "metadata": {},
     "output_type": "execute_result"
    }
   ],
   "source": [
    "ps.stem(\"running\")"
   ]
  },
  {
   "cell_type": "code",
   "execution_count": 35,
   "id": "2877dbd7",
   "metadata": {},
   "outputs": [
    {
     "data": {
      "text/plain": [
       "'runner'"
      ]
     },
     "execution_count": 35,
     "metadata": {},
     "output_type": "execute_result"
    }
   ],
   "source": [
    "ps.stem(\"runner\")"
   ]
  },
  {
   "cell_type": "code",
   "execution_count": 38,
   "id": "a2348483",
   "metadata": {},
   "outputs": [
    {
     "data": {
      "text/plain": [
       "'fli'"
      ]
     },
     "execution_count": 38,
     "metadata": {},
     "output_type": "execute_result"
    }
   ],
   "source": [
    "ps.stem('fly')"
   ]
  },
  {
   "cell_type": "code",
   "execution_count": 39,
   "id": "462b0363",
   "metadata": {},
   "outputs": [
    {
     "data": {
      "text/plain": [
       "'fli'"
      ]
     },
     "execution_count": 39,
     "metadata": {},
     "output_type": "execute_result"
    }
   ],
   "source": [
    "ps.stem('flies')"
   ]
  },
  {
   "cell_type": "markdown",
   "id": "e84324ad",
   "metadata": {},
   "source": [
    "# lemmatization"
   ]
  },
  {
   "cell_type": "code",
   "execution_count": 40,
   "id": "f2c8420c",
   "metadata": {},
   "outputs": [
    {
     "name": "stderr",
     "output_type": "stream",
     "text": [
      "[nltk_data] Downloading package wordnet to /home/catpc/nltk_data...\n",
      "[nltk_data]   Package wordnet is already up-to-date!\n"
     ]
    },
    {
     "data": {
      "text/plain": [
       "True"
      ]
     },
     "execution_count": 40,
     "metadata": {},
     "output_type": "execute_result"
    }
   ],
   "source": [
    "import nltk\n",
    "nltk.download(\"wordnet\")"
   ]
  },
  {
   "cell_type": "code",
   "execution_count": 41,
   "id": "8dc196cd",
   "metadata": {},
   "outputs": [],
   "source": [
    "from nltk.stem import WordNetLemmatizer\n"
   ]
  },
  {
   "cell_type": "code",
   "execution_count": 43,
   "id": "c6f6e3b3",
   "metadata": {},
   "outputs": [],
   "source": [
    "lem = WordNetLemmatizer()"
   ]
  },
  {
   "cell_type": "code",
   "execution_count": 44,
   "id": "1c16fa9b",
   "metadata": {},
   "outputs": [
    {
     "data": {
      "text/plain": [
       "'good'"
      ]
     },
     "execution_count": 44,
     "metadata": {},
     "output_type": "execute_result"
    }
   ],
   "source": [
    "lem.lemmatize(\"better\",pos='a')"
   ]
  },
  {
   "cell_type": "code",
   "execution_count": 45,
   "id": "790d9ec0",
   "metadata": {},
   "outputs": [
    {
     "data": {
      "text/plain": [
       "'runner'"
      ]
     },
     "execution_count": 45,
     "metadata": {},
     "output_type": "execute_result"
    }
   ],
   "source": [
    "lem.lemmatize(\"runner\",pos=\"v\")"
   ]
  },
  {
   "cell_type": "code",
   "execution_count": 47,
   "id": "a5146f78",
   "metadata": {},
   "outputs": [
    {
     "data": {
      "text/plain": [
       "'run'"
      ]
     },
     "execution_count": 47,
     "metadata": {},
     "output_type": "execute_result"
    }
   ],
   "source": [
    "lem.lemmatize(\"running\",pos='v')"
   ]
  },
  {
   "cell_type": "markdown",
   "id": "dfc9e5a5",
   "metadata": {},
   "source": [
    "# Text Normalization"
   ]
  },
  {
   "cell_type": "code",
   "execution_count": 48,
   "id": "e7e2d11e",
   "metadata": {},
   "outputs": [
    {
     "data": {
      "text/plain": [
       "\"hey there! i'm learning nlp @ 2025: )\""
      ]
     },
     "execution_count": 48,
     "metadata": {},
     "output_type": "execute_result"
    }
   ],
   "source": [
    "text = \"Hey there! I'm learning NLP @ 2025: )\"\n",
    "#setp1 .lowercase\n",
    "text_lower = text.lower()\n",
    "text_lower"
   ]
  },
  {
   "cell_type": "code",
   "execution_count": 50,
   "id": "dc37b4ed",
   "metadata": {},
   "outputs": [],
   "source": [
    "import re\n"
   ]
  },
  {
   "cell_type": "code",
   "execution_count": 51,
   "id": "a634dd5a",
   "metadata": {},
   "outputs": [
    {
     "data": {
      "text/plain": [
       "['h', 'h']"
      ]
     },
     "execution_count": 51,
     "metadata": {},
     "output_type": "execute_result"
    }
   ],
   "source": [
    "re.findall(r'h',text_lower)"
   ]
  },
  {
   "cell_type": "code",
   "execution_count": 53,
   "id": "e8b106b0",
   "metadata": {},
   "outputs": [
    {
     "data": {
      "text/plain": [
       "['e', 'e', 'e', 'e']"
      ]
     },
     "execution_count": 53,
     "metadata": {},
     "output_type": "execute_result"
    }
   ],
   "source": [
    "re.findall(r'e',text_lower)"
   ]
  },
  {
   "cell_type": "code",
   "execution_count": 54,
   "id": "2979e941",
   "metadata": {},
   "outputs": [
    {
     "data": {
      "text/plain": [
       "['h',\n",
       " 'e',\n",
       " 'y',\n",
       " 't',\n",
       " 'h',\n",
       " 'e',\n",
       " 'r',\n",
       " 'e',\n",
       " 'i',\n",
       " 'm',\n",
       " 'l',\n",
       " 'e',\n",
       " 'a',\n",
       " 'r',\n",
       " 'n',\n",
       " 'i',\n",
       " 'n',\n",
       " 'g',\n",
       " 'n',\n",
       " 'l',\n",
       " 'p',\n",
       " '2',\n",
       " '0',\n",
       " '2',\n",
       " '5']"
      ]
     },
     "execution_count": 54,
     "metadata": {},
     "output_type": "execute_result"
    }
   ],
   "source": [
    "re.findall(r'\\w',text_lower)"
   ]
  },
  {
   "cell_type": "code",
   "execution_count": 57,
   "id": "3b10ad94",
   "metadata": {},
   "outputs": [
    {
     "data": {
      "text/plain": [
       "'heythereimlearningnlp2025'"
      ]
     },
     "execution_count": 57,
     "metadata": {},
     "output_type": "execute_result"
    }
   ],
   "source": [
    "\"\".join(re.findall(r\"\\w\", text_lower))"
   ]
  },
  {
   "cell_type": "code",
   "execution_count": 58,
   "id": "f2300cce",
   "metadata": {},
   "outputs": [
    {
     "data": {
      "text/plain": [
       "\" ! '   @ : )\""
      ]
     },
     "execution_count": 58,
     "metadata": {},
     "output_type": "execute_result"
    }
   ],
   "source": [
    "re.sub(r\"\\w\",'',text_lower)"
   ]
  },
  {
   "cell_type": "code",
   "execution_count": 61,
   "id": "dc3bef2f",
   "metadata": {},
   "outputs": [
    {
     "data": {
      "text/plain": [
       "'hey there im learning nlp  2025 '"
      ]
     },
     "execution_count": 61,
     "metadata": {},
     "output_type": "execute_result"
    }
   ],
   "source": [
    "re.sub(r\"[^\\w\\s]\",'',text_lower)"
   ]
  },
  {
   "cell_type": "code",
   "execution_count": null,
   "id": "09aaaeb8",
   "metadata": {},
   "outputs": [],
   "source": [
    "#\\w => all characters except punch and spaces\n",
    "#\\s => all the whitespace characters"
   ]
  },
  {
   "cell_type": "markdown",
   "id": "d92762c4",
   "metadata": {},
   "source": [
    "# full text preprocessing pipeline"
   ]
  },
  {
   "cell_type": "code",
   "execution_count": 63,
   "id": "e5bf61ea",
   "metadata": {},
   "outputs": [],
   "source": [
    "from nltk.tokenize import word_tokenize\n",
    "from nltk.stem import WordNetLemmatizer\n",
    "from nltk.corpus import stopwords\n",
    "import re"
   ]
  },
  {
   "cell_type": "code",
   "execution_count": 65,
   "id": "4867e623",
   "metadata": {},
   "outputs": [],
   "source": [
    "stop_words = set(stopwords.words(\"english\"))"
   ]
  },
  {
   "cell_type": "code",
   "execution_count": 77,
   "id": "a695f88b",
   "metadata": {},
   "outputs": [],
   "source": [
    "lemmatizer = WordNetLemmatizer()"
   ]
  },
  {
   "cell_type": "code",
   "execution_count": 82,
   "id": "bc1b43c0",
   "metadata": {},
   "outputs": [],
   "source": [
    "def preprocess(raw_text):\n",
    "    #setp 1\n",
    "    lowercase_text = raw_text.lower()\n",
    "    #step 2 remove punctuation\n",
    "    clean_text = re.sub(r\"[^\\w\\s]\",'',lowercase_text)\n",
    "    \n",
    "    #step 3 tokenization\n",
    "    tokens = word_tokenize(clean_text)\n",
    "    \n",
    "    #step 4 stop word remove\n",
    "    filtered_token = [word for word in tokens if word not in stop_words]\n",
    "    \n",
    "    #step 5 lemmatization\n",
    "    lemmatized_tokens = [lemmatizer.lemmatize(word) for word in filtered_token]\n",
    "    \n",
    "    return \" \".join(lemmatized_tokens)\n",
    "\n"
   ]
  },
  {
   "cell_type": "code",
   "execution_count": 83,
   "id": "59c9dc07",
   "metadata": {},
   "outputs": [],
   "source": [
    "text =  \"I have a good idea that^^$# can help get a ##good job!\"\n"
   ]
  },
  {
   "cell_type": "code",
   "execution_count": 84,
   "id": "e5f151e7",
   "metadata": {},
   "outputs": [
    {
     "data": {
      "text/plain": [
       "'good idea help get good job'"
      ]
     },
     "execution_count": 84,
     "metadata": {},
     "output_type": "execute_result"
    }
   ],
   "source": [
    "preprocess(text)"
   ]
  },
  {
   "cell_type": "markdown",
   "id": "8f414f9f",
   "metadata": {},
   "source": [
    "# common Preprocessing Mistaeks"
   ]
  },
  {
   "cell_type": "code",
   "execution_count": null,
   "id": "a06532e9",
   "metadata": {},
   "outputs": [],
   "source": []
  }
 ],
 "metadata": {
  "kernelspec": {
   "display_name": "Python 3 (ipykernel)",
   "language": "python",
   "name": "python3"
  },
  "language_info": {
   "codemirror_mode": {
    "name": "ipython",
    "version": 3
   },
   "file_extension": ".py",
   "mimetype": "text/x-python",
   "name": "python",
   "nbconvert_exporter": "python",
   "pygments_lexer": "ipython3",
   "version": "3.11.6"
  }
 },
 "nbformat": 4,
 "nbformat_minor": 5
}
