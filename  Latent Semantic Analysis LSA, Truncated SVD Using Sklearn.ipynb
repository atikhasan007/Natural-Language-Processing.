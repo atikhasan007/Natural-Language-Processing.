{
  "cells": [
    {
      "cell_type": "markdown",
      "metadata": {
        "id": "view-in-github",
        "colab_type": "text"
      },
      "source": [
        "<a href=\"https://colab.research.google.com/github/atikhasan007/Natural-Language-Processing./blob/main/%20Latent%20Semantic%20Analysis%20LSA%2C%20Truncated%20SVD%20Using%20Sklearn.ipynb\" target=\"_parent\"><img src=\"https://colab.research.google.com/assets/colab-badge.svg\" alt=\"Open In Colab\"/></a>"
      ]
    },
    {
      "cell_type": "code",
      "source": [
        "# TruncatedSVD (LSA)\n",
        "# TruncatedSVD reduces high-dimensional TF-IDF vectors to low-dimensional semantic concepts.\n",
        "\n",
        "# Useful for: Clustering, visualization, topic modeling, and more."
      ],
      "metadata": {
        "id": "G5Z_g30pNuXV"
      },
      "execution_count": 1,
      "outputs": []
    },
    {
      "cell_type": "code",
      "source": [
        "#imports\n",
        "import pandas as pd\n",
        "from sklearn.feature_extraction.text import TfidfVectorizer\n",
        "from sklearn.decomposition import TruncatedSVD #Singular Value Decomposition (SVD)\n",
        "#TruncatedSVD হলো dimensionality reduction technique"
      ],
      "metadata": {
        "id": "kVLWLSl_NuZ9"
      },
      "execution_count": 2,
      "outputs": []
    },
    {
      "cell_type": "code",
      "source": [
        "#Dummy Datasets\n",
        "\n",
        "documents = [\n",
        "    \"Machine learning is amazing\",\n",
        "    \"Deep learning and neural networks are part of machine learning\",\n",
        "    \"Natural language processing uses machine learning techniques\",\n",
        "    \"AI includes machine learning and deep learning\",\n",
        "    \"Language models are used in NLP\",\n",
        "    \"NLP stands for natural language processing\",\n",
        "    \"Transformers are powerful models for NLP\",\n",
        "    \"Deep learning is a subfield of machine learning\",\n",
        "    \"AI is the future of technology\",\n",
        "    \"Technology is evolving with AI and ML\"\n",
        "]\n",
        "documents\n"
      ],
      "metadata": {
        "id": "1CqGek0JNuck",
        "outputId": "b8ab6eac-e387-4959-f095-40d7044a875c",
        "colab": {
          "base_uri": "https://localhost:8080/"
        }
      },
      "execution_count": 3,
      "outputs": [
        {
          "output_type": "execute_result",
          "data": {
            "text/plain": [
              "['Machine learning is amazing',\n",
              " 'Deep learning and neural networks are part of machine learning',\n",
              " 'Natural language processing uses machine learning techniques',\n",
              " 'AI includes machine learning and deep learning',\n",
              " 'Language models are used in NLP',\n",
              " 'NLP stands for natural language processing',\n",
              " 'Transformers are powerful models for NLP',\n",
              " 'Deep learning is a subfield of machine learning',\n",
              " 'AI is the future of technology',\n",
              " 'Technology is evolving with AI and ML']"
            ]
          },
          "metadata": {},
          "execution_count": 3
        }
      ]
    },
    {
      "cell_type": "code",
      "source": [
        "#vectorization\n",
        "vectorizer = TfidfVectorizer(stop_words='english')\n",
        "x_tfidf = vectorizer.fit_transform(documents)\n",
        "x_tfidf\n"
      ],
      "metadata": {
        "id": "jJE-BW6bNufO",
        "outputId": "d0b1683f-a615-4857-e196-3e44a4944e50",
        "colab": {
          "base_uri": "https://localhost:8080/"
        }
      },
      "execution_count": 4,
      "outputs": [
        {
          "output_type": "execute_result",
          "data": {
            "text/plain": [
              "<Compressed Sparse Row sparse matrix of dtype 'float64'\n",
              "\twith 44 stored elements and shape (10, 24)>"
            ]
          },
          "metadata": {},
          "execution_count": 4
        }
      ]
    },
    {
      "cell_type": "code",
      "source": [
        "#apply TruncatedSVD (LSA)\n",
        "#reduce to 2 latent topics / components\n",
        "svd = TruncatedSVD(n_components=3)\n",
        "x_lsa = svd.fit_transform(x_tfidf)\n",
        "x_lsa\n"
      ],
      "metadata": {
        "id": "Q9i0LOllNuh9",
        "outputId": "54fa6da6-b091-429e-bf49-ac939e0b576d",
        "colab": {
          "base_uri": "https://localhost:8080/"
        }
      },
      "execution_count": 6,
      "outputs": [
        {
          "output_type": "execute_result",
          "data": {
            "text/plain": [
              "array([[ 0.65956933, -0.09041784, -0.12827574],\n",
              "       [ 0.78214146, -0.13828809, -0.1275628 ],\n",
              "       [ 0.50239136,  0.45905735, -0.05369877],\n",
              "       [ 0.82050161, -0.16293862,  0.1350175 ],\n",
              "       [ 0.08589637,  0.75004832,  0.09361561],\n",
              "       [ 0.16308372,  0.75719271,  0.04364809],\n",
              "       [ 0.03617842,  0.57171849,  0.09360164],\n",
              "       [ 0.83275234, -0.14031668, -0.12579432],\n",
              "       [ 0.11718935, -0.09569476,  0.84053105],\n",
              "       [ 0.10557946, -0.09158977,  0.83617547]])"
            ]
          },
          "metadata": {},
          "execution_count": 6
        }
      ]
    },
    {
      "cell_type": "code",
      "source": [
        "#display Results\n",
        "terms = vectorizer.get_feature_names_out()\n",
        "\n",
        "for idx , comp in enumerate(svd.components_):\n",
        "    terms_in_comp = zip(terms,comp)\n",
        "    sorted_terms = sorted(terms_in_comp, key=lambda x: x[1], reverse=True)[:5]\n",
        "\n",
        "\n",
        "    print(f\"\\nTopic {idx + 1}\")\n",
        "    for term, weight in sorted_terms:\n",
        "      print(f\"{term} ({weight:.4f})\")\n",
        "\n",
        "\n"
      ],
      "metadata": {
        "id": "j1vHU7UHNukY",
        "outputId": "4cd2c907-93f1-4d53-b964-cab2b4cd10df",
        "colab": {
          "base_uri": "https://localhost:8080/"
        }
      },
      "execution_count": 14,
      "outputs": [
        {
          "output_type": "stream",
          "name": "stdout",
          "text": [
            "\n",
            "Topic 1\n",
            "learning (0.7055)\n",
            "machine (0.4330)\n",
            "deep (0.3413)\n",
            "amazing (0.1853)\n",
            "subfield (0.1677)\n",
            "\n",
            "Topic 2\n",
            "nlp (0.4904)\n",
            "language (0.4465)\n",
            "models (0.3670)\n",
            "natural (0.2955)\n",
            "processing (0.2955)\n",
            "\n",
            "Topic 3\n",
            "technology (0.5796)\n",
            "ai (0.5412)\n",
            "future (0.3727)\n",
            "evolving (0.3091)\n",
            "ml (0.3091)\n"
          ]
        }
      ]
    },
    {
      "cell_type": "code",
      "source": [],
      "metadata": {
        "id": "qkIOz1vnRUue"
      },
      "execution_count": 12,
      "outputs": []
    },
    {
      "cell_type": "code",
      "source": [],
      "metadata": {
        "id": "iYAwwUOtNumx"
      },
      "execution_count": null,
      "outputs": []
    },
    {
      "cell_type": "code",
      "source": [],
      "metadata": {
        "id": "XNJ26LfwNupm"
      },
      "execution_count": null,
      "outputs": []
    },
    {
      "cell_type": "code",
      "source": [],
      "metadata": {
        "id": "IZVGMaiWNusO"
      },
      "execution_count": null,
      "outputs": []
    },
    {
      "cell_type": "code",
      "source": [],
      "metadata": {
        "id": "uDNxxDlTNuu9"
      },
      "execution_count": null,
      "outputs": []
    },
    {
      "cell_type": "code",
      "source": [],
      "metadata": {
        "id": "sv5S66ylNuxe"
      },
      "execution_count": null,
      "outputs": []
    },
    {
      "cell_type": "code",
      "source": [],
      "metadata": {
        "id": "G1sQraj-Nu0H"
      },
      "execution_count": null,
      "outputs": []
    },
    {
      "cell_type": "code",
      "source": [],
      "metadata": {
        "id": "I08iu1rqNu2v"
      },
      "execution_count": null,
      "outputs": []
    },
    {
      "cell_type": "code",
      "source": [],
      "metadata": {
        "id": "EZ9nkRV3Nu5W"
      },
      "execution_count": null,
      "outputs": []
    },
    {
      "cell_type": "code",
      "source": [],
      "metadata": {
        "id": "mKwe2mx2Nu8F"
      },
      "execution_count": null,
      "outputs": []
    },
    {
      "cell_type": "code",
      "source": [],
      "metadata": {
        "id": "F2-FF9aSNu-n"
      },
      "execution_count": null,
      "outputs": []
    },
    {
      "cell_type": "code",
      "source": [],
      "metadata": {
        "id": "wElZN8ECNvBQ"
      },
      "execution_count": null,
      "outputs": []
    },
    {
      "cell_type": "code",
      "source": [],
      "metadata": {
        "id": "w0DJziHlNvD5"
      },
      "execution_count": null,
      "outputs": []
    }
  ],
  "metadata": {
    "colab": {
      "name": "Welcome to Colab",
      "provenance": [],
      "include_colab_link": true
    },
    "kernelspec": {
      "display_name": "Python 3",
      "name": "python3"
    }
  },
  "nbformat": 4,
  "nbformat_minor": 0
}